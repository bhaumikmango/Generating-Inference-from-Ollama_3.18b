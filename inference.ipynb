{
 "cells": [
  {
   "cell_type": "code",
   "execution_count": 1,
   "metadata": {},
   "outputs": [
    {
     "name": "stderr",
     "output_type": "stream",
     "text": [
      "c:\\Users\\DELL\\AppData\\Local\\Programs\\Python\\Python313\\Lib\\site-packages\\sklearn\\base.py:376: InconsistentVersionWarning: Trying to unpickle estimator DecisionTreeClassifier from version 1.3.2 when using version 1.5.2. This might lead to breaking code or invalid results. Use at your own risk. For more info please refer to:\n",
      "https://scikit-learn.org/stable/model_persistence.html#security-maintainability-limitations\n",
      "  warnings.warn(\n",
      "c:\\Users\\DELL\\AppData\\Local\\Programs\\Python\\Python313\\Lib\\site-packages\\sklearn\\base.py:376: InconsistentVersionWarning: Trying to unpickle estimator RandomForestClassifier from version 1.3.2 when using version 1.5.2. This might lead to breaking code or invalid results. Use at your own risk. For more info please refer to:\n",
      "https://scikit-learn.org/stable/model_persistence.html#security-maintainability-limitations\n",
      "  warnings.warn(\n"
     ]
    }
   ],
   "source": [
    "import pickle \n",
    "with open('trained_model', 'rb+') as f:\n",
    "    model=pickle.load(f)\n",
    "import pandas as pd"
   ]
  },
  {
   "cell_type": "code",
   "execution_count": 2,
   "metadata": {},
   "outputs": [
    {
     "name": "stdout",
     "output_type": "stream",
     "text": [
      "<class 'str'>\n"
     ]
    }
   ],
   "source": [
    "df1 = pd.read_csv('customer_churn.csv')\n",
    "a=df1['Age'].to_string()\n",
    "b=df1['Total_Purchase'].to_string()\n",
    "c=df1['Account_Manager'].to_string()\n",
    "d=df1['Years'].to_string()\n",
    "e=df1['Num_Sites'].to_string()\n",
    "f=df1['Churn'].to_string()\n",
    "print(type(a))"
   ]
  },
  {
   "cell_type": "code",
   "execution_count": 5,
   "metadata": {},
   "outputs": [
    {
     "name": "stdout",
     "output_type": "stream",
     "text": [
      "Based on the provided data, I'll perform the analyses as requested. However, please note that without actual customer data (Age, Total Purchases, Account Manager, Number of Years with Company, Number of Sites), we can't train a model directly. Instead, I'll provide a general outline and recommendations based on industry best practices.\n",
      "\n",
      "**Assumptions:**\n",
      "\n",
      "For the sake of this analysis, let's assume that we have access to customer data for 900 customers (801 of which are not leaving). The goal is to identify factors that contribute to churn (dependent variable) and develop strategies to mitigate it (prescriptive analysis).\n",
      "\n",
      "**Predictive Analysis:**\n",
      "\n",
      "1. **Feature Engineering:** Select relevant independent variables:\n",
      "\t* Age\n",
      "\t* Total Purchases\n",
      "\t* Account Manager\n",
      "\t* Number of Years with Company\n",
      "\t* Number of Sites\n",
      "2. **Data Preprocessing:**\n",
      "\t* Handle missing values and outliers\n",
      "\t* Normalize/Scale numerical features (e.g., age, total purchases)\n",
      "3. **Model Selection:** Choose a suitable machine learning algorithm for predicting churn:\n",
      "\t* Logistic Regression\n",
      "\t* Decision Trees\n",
      "\t* Random Forests\n",
      "\t* Support Vector Machines\n",
      "4. **Hyperparameter Tuning:** Perform grid search or random search to optimize model performance\n",
      "5. **Model Evaluation:**\n",
      "\t* Split the data into training (80%) and testing sets (20%)\n",
      "\t* Use metrics like accuracy, precision, recall, F1-score, and AUC-ROC to evaluate the model's performance\n",
      "\n",
      "Here's an example of how we could implement this in Python using scikit-learn:\n",
      "```python\n",
      "import pandas as pd\n",
      "from sklearn.model_selection import train_test_split\n",
      "from sklearn.ensemble import RandomForestClassifier\n",
      "from sklearn.metrics import accuracy_score, classification_report, confusion_matrix\n",
      "\n",
      "# Load data and preprocess\n",
      "data = pd.read_csv('customer_data.csv')\n",
      "X = data.drop(['Churn'], axis=1)  # independent variables\n",
      "y = data['Churn']  # dependent variable\n",
      "\n",
      "# Split data into training and testing sets\n",
      "X_train, X_test, y_train, y_test = train_test_split(X, y, test_size=0.2, random_state=42)\n",
      "\n",
      "# Initialize and fit the model\n",
      "rf = RandomForestClassifier(n_estimators=100, random_state=42)\n",
      "rf.fit(X_train, y_train)\n",
      "\n",
      "# Evaluate the model\n",
      "y_pred = rf.predict(X_test)\n",
      "print(\"Accuracy:\", accuracy_score(y_test, y_pred))\n",
      "print(\"Classification Report:\\n\", classification_report(y_test, y_pred))\n",
      "print(\"Confusion Matrix:\\n\", confusion_matrix(y_test, y_pred))\n",
      "```\n",
      "**Prescriptive Analysis:**\n",
      "\n",
      "Based on the model's results, here are some actionable steps to reduce churn:\n",
      "\n",
      "1. **Focus on high-risk customers:** Identify customers with a higher likelihood of churning and prioritize communication efforts to retain them.\n",
      "2. **Improve Account Manager relationships:** Train account managers to understand individual customer needs and preferences. This can lead to stronger relationships and increased loyalty.\n",
      "3. **Offer personalized promotions:** Use data analysis to identify customers who are more likely to respond to specific promotions or discounts. Targeted marketing campaigns can help keep these customers engaged.\n",
      "4. **Enhance the customer experience:** Focus on improving overall satisfaction through better service, faster issue resolution, and regular feedback opportunities.\n",
      "5. **Monitor and adjust:** Continuously monitor churn rates and adjust strategies as needed based on changes in market conditions, customer behavior, or other factors.\n",
      "\n",
      "Some potential patterns observed from the analysis might include:\n",
      "\n",
      "* Younger customers (e.g., under 30) with fewer years of service are more likely to churn\n",
      "* Customers who have made only a few purchases within a short period are at higher risk of churning\n",
      "* Those with an inactive account manager or poor relationship may be more likely to leave\n",
      "\n",
      "These insights can inform targeted marketing and retention strategies, ultimately reducing churn rates.\n"
     ]
    }
   ],
   "source": [
    "import ollama\n",
    "prompt = f'''\n",
    "I have a customer churn dataset with the following features:\n",
    "\n",
    "1. **Age**: The age of the customer in years (denoted as {a}).\n",
    "2. **Total Purchases**: The total amount spent by the customer (denoted as {b}).\n",
    "3. **Account Manager**: A binary indicator where 0 means the customer does not have an account manager, and 1 means the customer does (denoted as {c}).\n",
    "4. **Number of Years with Company**: How long the customer has been with the company, in years (denoted as {d}).\n",
    "5. **Number of Sites**: The number of sites associated with the customer (denoted as {e}).\n",
    "\n",
    "The target variable is **Churn** {f}:\n",
    "- 0: Customer is not leaving.\n",
    "- 1: Customer is leaving.\n",
    "\n",
    "Please perform the following analyses:\n",
    "\n",
    "1. **Predictive Analysis**: \n",
    "   - Use the independent variables (Age, Total Purchases, Account Manager, Number of Years with Company, Number of Sites) to predict whether a customer will churn (dependent variable).\n",
    "   - Provide the steps to train and evaluate a predictive model for churn.\n",
    "\n",
    "2. **Prescriptive Analysis**:\n",
    "   - Based on the model's results, what actionable steps can the company take to reduce churn? Please provide insights based on the features and any potential patterns observed.\n",
    "\n",
    "Perform the 2 steps and find out the inference features from the given information\n",
    "'''\n",
    "\n",
    "response=ollama.chat(model='llama3.1:8b', messages=[{'role':'user', 'content':prompt}])\n",
    "print(response['message']['content'])"
   ]
  }
 ],
 "metadata": {
  "kernelspec": {
   "display_name": "Python 3",
   "language": "python",
   "name": "python3"
  },
  "language_info": {
   "codemirror_mode": {
    "name": "ipython",
    "version": 3
   },
   "file_extension": ".py",
   "mimetype": "text/x-python",
   "name": "python",
   "nbconvert_exporter": "python",
   "pygments_lexer": "ipython3",
   "version": "3.13.0"
  }
 },
 "nbformat": 4,
 "nbformat_minor": 2
}
